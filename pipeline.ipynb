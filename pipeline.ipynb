{
 "cells": [
  {
   "cell_type": "code",
   "execution_count": 1,
   "id": "d0d982d3",
   "metadata": {},
   "outputs": [],
   "source": [
    "from app.fetcher import YouTubeTrendingFetcher\n",
    "from app.db import PostgresSaver\n",
    "from config.params import Params"
   ]
  },
  {
   "cell_type": "markdown",
   "id": "5700f2e0",
   "metadata": {},
   "source": [
    "Fetch youtube videos"
   ]
  },
  {
   "cell_type": "code",
   "execution_count": 2,
   "id": "b725f452",
   "metadata": {},
   "outputs": [
    {
     "name": "stderr",
     "output_type": "stream",
     "text": [
      "INFO:googleapiclient.discovery_cache:file_cache is only supported with oauth2client<4.0.0\n",
      "INFO:root:Fetching trending videos for region: US\n",
      "INFO:root:Fetching trending videos for region: CA\n",
      "INFO:root:Fetching trending videos for region: FR\n"
     ]
    },
    {
     "data": {
      "text/plain": [
       "150"
      ]
     },
     "execution_count": 2,
     "metadata": {},
     "output_type": "execute_result"
    }
   ],
   "source": [
    "fetcher = YouTubeTrendingFetcher(api_key=Params.YOUTUBE_API_KEY, regions=[\"US\", \"CA\", \"FR\"])\n",
    "results = fetcher.run()\n",
    "len(results)"
   ]
  },
  {
   "cell_type": "markdown",
   "id": "eef5abaf",
   "metadata": {},
   "source": [
    "Create database if not exist"
   ]
  },
  {
   "cell_type": "code",
   "execution_count": 4,
   "id": "27e7f2d8",
   "metadata": {},
   "outputs": [
    {
     "name": "stderr",
     "output_type": "stream",
     "text": [
      "INFO:root:[✓] Table 'youtube_trending' checked or created.\n",
      "INFO:root:[→] Saving 150 records to 'youtube_trending'\n",
      "INFO:root:[✓] Saved successfully.\n"
     ]
    }
   ],
   "source": [
    "saver = PostgresSaver(db_uri=Params.DB_URI)\n",
    "saver.create_table()\n",
    "saver.save_dataframe(df=results)"
   ]
  },
  {
   "cell_type": "code",
   "execution_count": 5,
   "id": "4c975939",
   "metadata": {},
   "outputs": [
    {
     "name": "stderr",
     "output_type": "stream",
     "text": [
      "WARNING:root:[⚠] All rows from 'youtube_trending' have been deleted.\n"
     ]
    }
   ],
   "source": [
    "saver.clear_table()"
   ]
  }
 ],
 "metadata": {
  "kernelspec": {
   "display_name": ".venv",
   "language": "python",
   "name": "python3"
  },
  "language_info": {
   "codemirror_mode": {
    "name": "ipython",
    "version": 3
   },
   "file_extension": ".py",
   "mimetype": "text/x-python",
   "name": "python",
   "nbconvert_exporter": "python",
   "pygments_lexer": "ipython3",
   "version": "3.11.13"
  }
 },
 "nbformat": 4,
 "nbformat_minor": 5
}
